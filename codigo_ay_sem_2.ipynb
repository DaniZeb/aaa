{
  "nbformat": 4,
  "nbformat_minor": 0,
  "metadata": {
    "colab": {
      "provenance": []
    },
    "kernelspec": {
      "name": "python3",
      "display_name": "Python 3"
    },
    "language_info": {
      "name": "python"
    }
  },
  "cells": [
    {
      "cell_type": "markdown",
      "source": [
        "## Codigo relacionado a la pregunta 1 del certamen 1 de 02-2023"
      ],
      "metadata": {
        "id": "hM_Sac-owyyV"
      }
    },
    {
      "cell_type": "code",
      "execution_count": 1,
      "metadata": {
        "id": "GuOL43zJmkfW"
      },
      "outputs": [],
      "source": [
        "import numpy as np"
      ]
    },
    {
      "cell_type": "markdown",
      "source": [
        "# Funcion original"
      ],
      "metadata": {
        "id": "Gv01I8iBxAmj"
      }
    },
    {
      "cell_type": "code",
      "source": [
        "def compute_area(x,delta):\n",
        "\n",
        "  # -------- inicio de su codigo --------\n",
        "\n",
        "  #Se define gδ(x) como gd y sqrt(1 + gδ(x)) como w para utilizar en la computacion posterior.\n",
        "  gd = lambda x: np.power(2.,-4*x)+np.sin(delta)*np.power(2.,-2*x+1)\n",
        "  w = lambda x: np.sqrt(1+gd(x))\n",
        "\n",
        "  #Se obtiene s\n",
        "  s = (np.power(2.,x)*(1+w(x))+np.power(2.,-x))/2\n",
        "\n",
        "  #Se obtiene s1\n",
        "  s1 = s-np.power(2.,x)\n",
        "\n",
        "  #Se obtiene s2\n",
        "  s2 = s-np.power(2.,-x)\n",
        "\n",
        "  #Se obtiene s3\n",
        "  s3 = s-np.power(2.,x)*w(x)\n",
        "\n",
        "  #Se obtiene A\n",
        "  A = np.sqrt(s*s1*s2*s2)\n",
        "\n",
        "  # -------- fin de su codigo --------\n",
        "  return s, s1, s2, s3, A"
      ],
      "metadata": {
        "id": "a_P9ltZfsISt"
      },
      "execution_count": 2,
      "outputs": []
    },
    {
      "cell_type": "markdown",
      "source": [
        "#Funcion alternativa"
      ],
      "metadata": {
        "id": "2BGFZjpHxESB"
      }
    },
    {
      "cell_type": "code",
      "source": [
        "def compute_area_improved(x,delta):\n",
        "\n",
        "  # -------- inicio de su codigo --------\n",
        "\n",
        "  #Se define gδ(x) como gd y sqrt(1 + gδ(x)) como w para utilizar en la computacion posterior.\n",
        "  gd = lambda x: np.power(2.,-4*x)+np.sin(delta)*np.power(2.,-2*x+1)\n",
        "  w = lambda x: np.sqrt(1+gd(x))\n",
        "\n",
        "  #Se obtiene s\n",
        "  s = ((np.power(2.,-x)+np.power(2.,x))+np.power(2.,x)*w(x))/2.\n",
        "\n",
        "  #Se obtiene s1\n",
        "  s1 = (np.power(2.,x-1)*gd(x))/(1+w(x))+np.power(2.,x-1)\n",
        "\n",
        "  #Se obtiene s2\n",
        "  s2 = (np.power(2.,x)*(1+w(x))+np.power(2.,-x))/2.-np.power(2.,-x)\n",
        "\n",
        "  #Se obtiene s3\n",
        "  s3 = -((np.power(2.,-3*x-1)+np.sin(delta)*np.power(2.,-x))/(1+w(x)))+np.power(2.,-x-1)\n",
        "\n",
        "  #Se obtiene A\n",
        "  A = np.sqrt(s*s1*s2*s2)\n",
        "\n",
        "  # -------- fin de su codigo --------\n",
        "  return s, s1, s2, s3, A"
      ],
      "metadata": {
        "id": "1gSbb7vEnzKK"
      },
      "execution_count": 3,
      "outputs": []
    },
    {
      "cell_type": "markdown",
      "source": [
        "#Resultados"
      ],
      "metadata": {
        "id": "6kqQJbBnxI0K"
      }
    },
    {
      "cell_type": "code",
      "source": [
        "def max_X(A):\n",
        "  try:\n",
        "    return np.where(A == 0.0)[0][0]\n",
        "  except:\n",
        "    return False"
      ],
      "metadata": {
        "id": "v7U2oi8WvYM4"
      },
      "execution_count": 4,
      "outputs": []
    },
    {
      "cell_type": "code",
      "source": [
        "max=50\n",
        "min=0\n",
        "x=np.arange(min,max)\n",
        "delta=np.array([np.pi]*(max-min))"
      ],
      "metadata": {
        "id": "ae5dfTQ4rXw4"
      },
      "execution_count": 10,
      "outputs": []
    },
    {
      "cell_type": "code",
      "source": [
        "compute_area=np.vectorize(compute_area)\n",
        "s, s1, s2, s3, A=compute_area(x,delta)\n",
        "A"
      ],
      "metadata": {
        "colab": {
          "base_uri": "https://localhost:8080/"
        },
        "id": "QqfLkcJUqUMn",
        "outputId": "85aa540a-1c2f-4617-ea2e-802a6e7ae5cb"
      },
      "execution_count": 6,
      "outputs": [
        {
          "output_type": "execute_result",
          "data": {
            "text/plain": [
              "array([7.76886987e-01, 1.42505312e+00, 2.82980651e+00, 5.65702687e+00,\n",
              "       1.13137301e+01, 2.26274197e+01, 4.52548343e+01, 9.05096680e+01,\n",
              "       1.81019336e+02, 3.62038672e+02, 7.24077344e+02, 1.44815469e+03,\n",
              "       2.89630938e+03, 5.79261873e+03, 1.15852375e+04, 2.31704750e+04,\n",
              "       4.63409500e+04, 9.26819000e+04, 1.85363800e+05, 3.70727600e+05,\n",
              "       7.41455200e+05, 1.48291040e+06, 2.96582080e+06, 5.93164160e+06,\n",
              "       1.18632832e+07, 2.37265664e+07, 0.00000000e+00, 0.00000000e+00,\n",
              "       0.00000000e+00, 0.00000000e+00, 0.00000000e+00, 0.00000000e+00,\n",
              "       0.00000000e+00, 0.00000000e+00, 0.00000000e+00, 0.00000000e+00,\n",
              "       0.00000000e+00, 0.00000000e+00, 0.00000000e+00, 0.00000000e+00,\n",
              "       0.00000000e+00, 0.00000000e+00, 0.00000000e+00, 0.00000000e+00,\n",
              "       0.00000000e+00, 0.00000000e+00, 0.00000000e+00, 0.00000000e+00,\n",
              "       0.00000000e+00, 0.00000000e+00])"
            ]
          },
          "metadata": {},
          "execution_count": 6
        }
      ]
    },
    {
      "cell_type": "code",
      "source": [
        "max_X(A)"
      ],
      "metadata": {
        "colab": {
          "base_uri": "https://localhost:8080/"
        },
        "id": "Dt1z_IGPuccA",
        "outputId": "4d837bc6-bafc-4482-93a5-cc30f3584372"
      },
      "execution_count": 7,
      "outputs": [
        {
          "output_type": "execute_result",
          "data": {
            "text/plain": [
              "26"
            ]
          },
          "metadata": {},
          "execution_count": 7
        }
      ]
    },
    {
      "cell_type": "code",
      "source": [
        "compute_area_improved=np.vectorize(compute_area_improved)\n",
        "s, s1, s2, s3, A=compute_area_improved(x,delta)\n",
        "A"
      ],
      "metadata": {
        "colab": {
          "base_uri": "https://localhost:8080/"
        },
        "id": "3gDB3c7wt399",
        "outputId": "ec1f6094-9a86-4e69-f0bb-1403d56502fe"
      },
      "execution_count": 8,
      "outputs": [
        {
          "output_type": "execute_result",
          "data": {
            "text/plain": [
              "array([7.76886987e-01, 2.73044218e+00, 1.11574373e+01, 4.50832239e+01,\n",
              "       1.80843853e+02, 7.23900891e+02, 2.89613268e+03, 1.15850607e+04,\n",
              "       4.63407732e+04, 1.85363623e+05, 7.41455023e+05, 2.96582062e+06,\n",
              "       1.18632830e+07, 4.74531326e+07, 1.89812531e+08, 7.59250125e+08,\n",
              "       3.03700050e+09, 1.21480020e+10, 4.85920080e+10, 1.94368032e+11,\n",
              "       7.77472128e+11, 3.10988851e+12, 1.24395540e+13, 4.97582162e+13,\n",
              "       1.99032865e+14, 7.96131459e+14, 3.18452584e+15, 1.27381033e+16,\n",
              "       5.09524134e+16, 2.03809654e+17, 8.15238614e+17, 3.26095446e+18,\n",
              "       1.30438178e+19, 5.21752713e+19, 2.08701085e+20, 8.34804341e+20,\n",
              "       3.33921736e+21, 1.33568695e+22, 5.34274778e+22, 2.13709911e+23,\n",
              "       8.54839645e+23, 3.41935858e+24, 1.36774343e+25, 5.47097373e+25,\n",
              "       2.18838949e+26, 8.75355796e+26, 3.50142319e+27, 1.40056927e+28,\n",
              "       5.60227710e+28, 2.24091084e+29])"
            ]
          },
          "metadata": {},
          "execution_count": 8
        }
      ]
    },
    {
      "cell_type": "code",
      "source": [
        "max_X(A)"
      ],
      "metadata": {
        "colab": {
          "base_uri": "https://localhost:8080/"
        },
        "id": "MhWihpYwvJ8-",
        "outputId": "f880e81a-b9e8-4a88-b99a-b0d27bfbd4ae"
      },
      "execution_count": 9,
      "outputs": [
        {
          "output_type": "execute_result",
          "data": {
            "text/plain": [
              "False"
            ]
          },
          "metadata": {},
          "execution_count": 9
        }
      ]
    }
  ]
}