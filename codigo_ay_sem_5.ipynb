{
  "nbformat": 4,
  "nbformat_minor": 0,
  "metadata": {
    "colab": {
      "provenance": []
    },
    "kernelspec": {
      "name": "python3",
      "display_name": "Python 3"
    },
    "language_info": {
      "name": "python"
    }
  },
  "cells": [
    {
      "cell_type": "code",
      "execution_count": null,
      "metadata": {
        "cellView": "form",
        "id": "A-bxZTtkDN3B"
      },
      "outputs": [],
      "source": [
        "#@title imports\n",
        "import numpy as np\n",
        "import matplotlib.pyplot as plt"
      ]
    },
    {
      "cell_type": "markdown",
      "source": [
        "Tenemos que encontrar raices de la siguiente función:\n",
        "$f(x)=x^{3}+4x^{2}-2$\n",
        "es decir buscamos $x$'s tales que $f(x)=0$, sin embargo, necesitamos una función para hacer iteración de punto fijo, osea, una función del tipo $g(x)=x$, por lo que tenemos que adaptar la función original:\n",
        "\n",
        "\n",
        "\n",
        "*   Opción 1:\n",
        "\n",
        "    $f(x)=x^{3}+4x^{2}-2=0$\n",
        "\n",
        "    $x^{2}(x+4)=2$\n",
        "\n",
        "    $(x+4)=\\frac{2}{x^{2}}$\n",
        "\n",
        "    $g(x)=x=\\frac{2}{x^{2}}-4$\n",
        "\n",
        "*   Opción 2:\n",
        "\n",
        "    $f(x)=x^{3}+4x^{2}-2=0$\n",
        "\n",
        "    $4x^{2}-2=-x^{3}$\n",
        "\n",
        "    $g(x)=\\frac{2-4x^{2}}{x^{2}}=x$\n",
        "\n",
        "*   Opción 3:\n",
        "\n",
        "    $f(x)=x^{3}+4x^{2}-2=0$\n",
        "\n",
        "    $x^{3}-2=-4x^{2}$\n",
        "\n",
        "    $g(x)=\\frac{2-x^{3}}{4x}=x$\n",
        "\n",
        "*   Opcion 4:\n",
        "\n",
        "    $f(x)=x^{3}+4x^{2}-2=0$\n",
        "\n",
        "    $2-x^{3}=4x^{2}$\n",
        "\n",
        "    $\\frac{2-x^{3}}{4}=x^{2}$\n",
        "\n",
        "    $\\frac{\\sqrt{2-x^{3}}}{2}=x$\n",
        "\n",
        "debemos buscar en el intervalo $[0,2]$ pero sería positivo primero visualizar la función."
      ],
      "metadata": {
        "id": "XYJrIiWEKqcD"
      }
    },
    {
      "cell_type": "code",
      "source": [
        "#@title grafica de f(x)\n",
        "f = lambda x: np.power(x,3) + 4*np.power(x,2) - 2\n",
        "\n",
        "x=np.linspace(-4,4,100)\n",
        "y=f(x)\n",
        "plt.plot(x,y, label='f(x)')\n",
        "plt.plot(x,[0]*len(x)) #una recta horizontal fijada en y=0\n",
        "plt.plot([0]*len(y),y) #una recta vertical fijada en x=0\n",
        "\n",
        "plt.grid(True)\n",
        "plt.ylabel('eje Y')\n",
        "plt.xlabel('eje X')\n",
        "plt.legend()\n",
        "plt.show()"
      ],
      "metadata": {
        "colab": {
          "base_uri": "https://localhost:8080/",
          "height": 449
        },
        "cellView": "form",
        "id": "O47dsUF5Piy3",
        "outputId": "8a05733d-30d8-4f76-e545-1dfb15cd5931"
      },
      "execution_count": null,
      "outputs": [
        {
          "output_type": "display_data",
          "data": {
            "text/plain": [
              "<Figure size 640x480 with 1 Axes>"
            ],
            "image/png": "[encoded data removed]"
          },
          "metadata": {}
        }
      ]
    },
    {
      "cell_type": "code",
      "source": [
        "#@title ipf\n",
        "def ipf(g,r, iters, prints=False):\n",
        "  for iter in np.arange(iters):\n",
        "    r=g(r)\n",
        "    if(prints):\n",
        "      print(iter, r)\n",
        "  return r"
      ],
      "metadata": {
        "cellView": "form",
        "id": "RaJWt_g38k-z"
      },
      "execution_count": null,
      "outputs": []
    },
    {
      "cell_type": "code",
      "source": [
        "g1 = lambda x : 2./np.power(x,2.)-4.\n",
        "g2 = lambda x : (2.-np.power(x,3.))/(4.*x)\n",
        "g3 = lambda x : (2.-4.*np.power(x,2.))/np.power(x,2.)\n",
        "g4 = lambda x : (np.sqrt(2.-np.power(x,3)))/2.\n",
        "\n",
        "r=1\n",
        "r=ipf(g4,r,20,prints=True)"
      ],
      "metadata": {
        "colab": {
          "base_uri": "https://localhost:8080/"
        },
        "id": "pzISMZx0Q9pp",
        "outputId": "260158e1-7fc1-48b7-8f53-b3e9116fef56"
      },
      "execution_count": null,
      "outputs": [
        {
          "output_type": "stream",
          "name": "stdout",
          "text": [
            "0 0.5\n",
            "1 0.6846531968814576\n",
            "2 0.647894438539531\n",
            "3 0.657273756394024\n",
            "4 0.6549908318531107\n",
            "5 0.6555532825269603\n",
            "6 0.6554151179201976\n",
            "7 0.6554490823887186\n",
            "8 0.6554407345257488\n",
            "9 0.6554427863722085\n",
            "10 0.6554422820481081\n",
            "11 0.6554424060064439\n",
            "12 0.6554423755386177\n",
            "13 0.6554423830273322\n",
            "14 0.6554423811866744\n",
            "15 0.6554423816390913\n",
            "16 0.6554423815278914\n",
            "17 0.6554423815552233\n",
            "18 0.6554423815485053\n",
            "19 0.6554423815501565\n"
          ]
        }
      ]
    },
    {
      "cell_type": "code",
      "source": [
        "print(r,f(r))"
      ],
      "metadata": {
        "colab": {
          "base_uri": "https://localhost:8080/"
        },
        "id": "hfPZumOqThNw",
        "outputId": "9a76a0bb-d3ea-42a3-a46e-3bcb83cfbaba"
      },
      "execution_count": null,
      "outputs": [
        {
          "output_type": "stream",
          "name": "stdout",
          "text": [
            "0.6554423815501565 2.1280754936015e-12\n"
          ]
        }
      ]
    },
    {
      "cell_type": "code",
      "source": [
        "#@title grafica de la raices encontradas\n",
        "x=np.linspace(-4,4,100)\n",
        "y=f(x)\n",
        "\n",
        "plt.plot(x,y, label='f(x)')\n",
        "\n",
        "plt.plot(ipf(g1,1,20),f(ipf(g1,1,20)), 'go', label='(ipf(g1,1),f(ipf(g1,1)))')\n",
        "plt.plot(ipf(g2,1,20),f(ipf(g2,1,20)), 'bo', label='(ipf(g2,1),f(ipf(g2,1)))')\n",
        "plt.plot(ipf(g4,1,20),f(ipf(g4,1,20)), 'yo', label='(ipf(g4,1),f(ipf(g4,1)))')\n",
        "\n",
        "#graficando los ejes cartesianos\n",
        "plt.plot(x,[0]*len(x))\n",
        "plt.plot([0]*len(y),y)\n",
        "\n",
        "plt.grid(True)\n",
        "plt.ylabel('eje Y')\n",
        "plt.xlabel('eje X')\n",
        "plt.legend()\n",
        "plt.show()"
      ],
      "metadata": {
        "colab": {
          "base_uri": "https://localhost:8080/",
          "height": 449
        },
        "id": "LSw2xt-1T1W9",
        "outputId": "10c2d46c-9482-4a83-b01d-f08c9c17a8fb"
      },
      "execution_count": null,
      "outputs": [
        {
          "output_type": "display_data",
          "data": {
            "text/plain": [
              "<Figure size 640x480 with 1 Axes>"
            ],
            "image/png": "[encoded data removed]"
          },
          "metadata": {}
        }
      ]
    },
    {
      "cell_type": "code",
      "source": [
        "#@title Metodo de newton\n",
        "def newton(f,fp,r, iters, prints=False):\n",
        "  for iter in np.arange(iters):\n",
        "    r=r-f(r)/fp(r)\n",
        "    if(prints):\n",
        "      print(iter, r)\n",
        "  return r"
      ],
      "metadata": {
        "id": "z9BIUNzu7yBG"
      },
      "execution_count": null,
      "outputs": []
    },
    {
      "cell_type": "code",
      "source": [
        "f = lambda x: np.power(x,3) + 4*np.power(x,2) - 2\n",
        "fp = lambda x: 3*np.power(x,2) + 8*x\n",
        "\n",
        "n=15\n",
        "r=1\n",
        "\n",
        "r=newton(f,fp, r, n, prints=True)"
      ],
      "metadata": {
        "colab": {
          "base_uri": "https://localhost:8080/"
        },
        "id": "NLn7xBrYhcCt",
        "outputId": "e77d0ee8-5279-4052-e844-9077d9c8052c"
      },
      "execution_count": null,
      "outputs": [
        {
          "output_type": "stream",
          "name": "stdout",
          "text": [
            "0 0.7272727272727273\n",
            "1 0.6596996753246753\n",
            "2 0.6554588311763728\n",
            "3 0.6554423817969685\n",
            "4 0.6554423815498308\n",
            "5 0.6554423815498308\n",
            "6 0.6554423815498308\n",
            "7 0.6554423815498308\n",
            "8 0.6554423815498308\n",
            "9 0.6554423815498308\n",
            "10 0.6554423815498308\n",
            "11 0.6554423815498308\n",
            "12 0.6554423815498308\n",
            "13 0.6554423815498308\n",
            "14 0.6554423815498308\n"
          ]
        }
      ]
    },
    {
      "cell_type": "code",
      "source": [
        "print(r,f(r))"
      ],
      "metadata": {
        "colab": {
          "base_uri": "https://localhost:8080/"
        },
        "id": "-n_331bSAjOE",
        "outputId": "ff16511f-92b4-499e-d9b4-bec91d6379e6"
      },
      "execution_count": null,
      "outputs": [
        {
          "output_type": "stream",
          "name": "stdout",
          "text": [
            "0.6554423815498308 0.0\n"
          ]
        }
      ]
    },
    {
      "cell_type": "markdown",
      "source": [
        "el metodo de newton tiene convergencia **cuadrática**:\n",
        "\n",
        "$M=\\frac{f''(r)}{2f'(r)}$"
      ],
      "metadata": {
        "id": "N4TiAyut4eJs"
      }
    },
    {
      "cell_type": "code",
      "source": [
        "#@title tasa convergencia metodo de newton\n",
        "fpp = lambda x: 6*x + 8\n",
        "M=fpp(r)/(2*fp(r))\n",
        "print(f\"La convergencia CUADRATICA M es de: {M}\")"
      ],
      "metadata": {
        "colab": {
          "base_uri": "https://localhost:8080/"
        },
        "cellView": "form",
        "id": "Ms4FUYF7irka",
        "outputId": "cb46131b-eeee-457f-df9d-68358f4b6191"
      },
      "execution_count": null,
      "outputs": [
        {
          "output_type": "stream",
          "name": "stdout",
          "text": [
            "La convergencia CUADRATICA M es de: 0.9133503598011994\n"
          ]
        }
      ]
    },
    {
      "cell_type": "markdown",
      "source": [
        "### Estudio de la convergencia lineal IPF"
      ],
      "metadata": {
        "id": "4Zo4onEHpi3V"
      }
    },
    {
      "cell_type": "markdown",
      "source": [
        "\n",
        "Busqueda: $S=|g'(r)|<0.8$\n",
        "\n",
        "funcion: $f(x)=x^{3}+4x^{2}-2=0$\n",
        "\n",
        "$2-x^{3}=4x^{2}$\n",
        "\n",
        "$\\frac{2-x^{3}}{4}=x^{2}$\n",
        "\n",
        "$g_{4}=\\frac{\\sqrt{2-x^{3}}}{2}=x$\n",
        "\n",
        "$g_{4}'(x)=-\\frac{3x^{2}}{4 \\sqrt{2-x^{3}}}$\n",
        "\n",
        "Calcular: $|g_{4}'(r)|$"
      ],
      "metadata": {
        "id": "rO86K-P2YY2T"
      }
    },
    {
      "cell_type": "code",
      "source": [
        "g4p = lambda x: -(3*np.power(x,2))/(4*np.sqrt(2-np.power(x,3)))\n",
        "print(f'raiz encontrada con g1 mediante ipf: {ipf(g4,1,20)}')\n",
        "print(f'convergencia: {abs(g4p(ipf(g4,1,20)))}')"
      ],
      "metadata": {
        "colab": {
          "base_uri": "https://localhost:8080/"
        },
        "id": "5AohD-lvYT0M",
        "outputId": "cc17ea38-62a9-4963-988b-40d9b55dfdd5"
      },
      "execution_count": null,
      "outputs": [
        {
          "output_type": "stream",
          "name": "stdout",
          "text": [
            "raiz encontrada con g1 mediante ipf: 0.6554423815501565\n",
            "convergencia: 0.2457908930814609\n"
          ]
        }
      ]
    },
    {
      "cell_type": "markdown",
      "source": [
        "Busqueda: $S=|g'(r)|<0.8$\n",
        "\n",
        "$f(x)=x^{3}+4x^{2}-2=0$\n",
        "\n",
        "$x^{3}-2=-4x^{2}$\n",
        "\n",
        "$g_{2}(x)=x=\\frac{2-x^{3}}{4x}$\n",
        "\n",
        "$g_{2}'(x)=-\\frac{x^{3}+1}{4x}$\n",
        "\n",
        "Calcular: $|g_{2}'(r)|$"
      ],
      "metadata": {
        "id": "az1iG4Y5oFf5"
      }
    },
    {
      "cell_type": "code",
      "source": [
        "g2p = lambda x: -(np.power(x,3)+1)/(2*np.power(x,2))\n",
        "print(f'raiz encontrada con g1 mediante ipf: {ipf(g2,2,20)}')\n",
        "print(f'convergencia: {abs(g2p(ipf(g2,2,20)))}')"
      ],
      "metadata": {
        "colab": {
          "base_uri": "https://localhost:8080/"
        },
        "id": "s_dbtHlPoFMF",
        "outputId": "c4b4259c-8b2e-4c64-c5d8-9c23cdf0a23d"
      },
      "execution_count": null,
      "outputs": [
        {
          "output_type": "stream",
          "name": "stdout",
          "text": [
            "raiz encontrada con g1 mediante ipf: -0.789244120745132\n",
            "convergencia: 0.40806690640051796\n"
          ]
        }
      ]
    },
    {
      "cell_type": "markdown",
      "source": [
        "\n",
        "Busqueda: $S=|g'(r)|<0.1$\n",
        "\n",
        "funcion: $f(x)=x^{3}+4x^{2}-2=0$\n",
        "\n",
        "$x^{2}(x+4)=2$\n",
        "\n",
        "$(x+4)=\\frac{2}{x^{2}}$\n",
        "\n",
        "$g_{1}(x)=\\frac{2}{x^{2}}-4=x$\n",
        "\n",
        "$g_{1}'(x)=-\\frac{4}{x^{3}}$\n",
        "\n",
        "Calcular: $|g_{1}'(r)|$"
      ],
      "metadata": {
        "id": "9MlM2NULh_Wq"
      }
    },
    {
      "cell_type": "code",
      "source": [
        "g1p = lambda x: -4/np.power(x,3)\n",
        "print(f'raiz encontrada con g1 mediante ipf: {ipf(g1,2,20)}')\n",
        "print(f'convergencia: {abs(g1p(ipf(g1,2,20)))}')"
      ],
      "metadata": {
        "colab": {
          "base_uri": "https://localhost:8080/"
        },
        "id": "oJHymcBml-sE",
        "outputId": "ba7d19a6-bee2-4144-be72-0f16301c6b23"
      },
      "execution_count": null,
      "outputs": [
        {
          "output_type": "stream",
          "name": "stdout",
          "text": [
            "raiz encontrada con g1 mediante ipf: -3.8661982625090223\n",
            "convergencia: 0.06921618003322212\n"
          ]
        }
      ]
    },
    {
      "cell_type": "markdown",
      "source": [
        "La función $g_{3}$ propuesta tiene la misma tasa de convergenciade que una de las funciones ya estudiadas:\n",
        "\n",
        "$g_{1}(x)=\\frac{2}{x^{2}}-4$\n",
        "\n",
        "$g_{3}(x)=\\frac{2-4x^{2}}{x^{2}}$\n",
        "\n",
        "$g_{1}'(x)=g_{3}'(x)$"
      ],
      "metadata": {
        "id": "WDpgPWaGo0Bk"
      }
    }
  ]
}